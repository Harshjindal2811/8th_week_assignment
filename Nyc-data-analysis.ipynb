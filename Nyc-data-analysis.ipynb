{
 "cells": [
  {
   "cell_type": "markdown",
   "metadata": {
    "application/vnd.databricks.v1+cell": {
     "cellMetadata": {},
     "inputWidgets": {},
     "nuid": "4640877d-11e3-405d-b1c5-83e8a82e83d1",
     "showTitle": false,
     "tableResultSettingsMap": {},
     "title": ""
    }
   },
   "source": [
    "**Setup & Read Data**"
   ]
  },
  {
   "cell_type": "code",
   "execution_count": 0,
   "metadata": {
    "application/vnd.databricks.v1+cell": {
     "cellMetadata": {
      "byteLimit": 2048000,
      "rowLimit": 10000
     },
     "inputWidgets": {},
     "nuid": "41c74522-e0b5-4f05-962d-20e0e0a535a7",
     "showTitle": false,
     "tableResultSettingsMap": {},
     "title": ""
    }
   },
   "outputs": [
    {
     "name": "stdout",
     "output_type": "stream",
     "text": [
      "+--------+--------------------+---------------------+---------------+-------------+----------+------------------+------------+------------+------------+-----------+-----+-------+----------+------------+---------------------+------------+\n",
      "|VendorID|tpep_pickup_datetime|tpep_dropoff_datetime|passenger_count|trip_distance|RatecodeID|store_and_fwd_flag|PULocationID|DOLocationID|payment_type|fare_amount|extra|mta_tax|tip_amount|tolls_amount|improvement_surcharge|total_amount|\n",
      "+--------+--------------------+---------------------+---------------+-------------+----------+------------------+------------+------------+------------+-----------+-----+-------+----------+------------+---------------------+------------+\n",
      "|       1| 2020-01-01 00:00:00|  2020-01-01 00:30:00|              1|         1.47|         1|                 Y|         165|          79|           1|       17.5| 0.74|   0.14|      2.84|        1.81|                 0.44|       23.47|\n",
      "|       2| 2020-01-01 01:00:00|  2020-01-01 01:30:00|              1|         5.78|         2|                 Y|         153|          58|           3|      43.32| 0.86|   0.41|     11.75|        3.62|                 0.17|       60.13|\n",
      "|       1| 2020-01-01 02:00:00|  2020-01-01 02:30:00|              3|         5.87|         2|                 Y|          76|          26|           4|       5.01| 1.69|   0.14|     10.73|         1.0|                 0.23|        18.8|\n",
      "|       1| 2020-01-01 03:00:00|  2020-01-01 03:30:00|              2|         6.74|         1|                 N|          87|         226|           2|        5.8| 0.54|   0.41|       8.9|        1.02|                 0.21|       16.88|\n",
      "|       1| 2020-01-01 04:00:00|  2020-01-01 04:30:00|              2|         7.53|         2|                 N|         117|         285|           5|      32.11| 0.31|   0.27|     13.44|        0.05|                 0.01|       46.19|\n",
      "+--------+--------------------+---------------------+---------------+-------------+----------+------------------+------------+------------+------------+-----------+-----+-------+----------+------------+---------------------+------------+\n",
      "only showing top 5 rows\n",
      "\n"
     ]
    }
   ],
   "source": [
    "# Step 1: Set Spark config to authenticate\n",
    "spark.conf.set(\n",
    "  \"fs.azure.account.key.assgn.blob.core.windows.net\",\n",
    "  \"wCUfMd769SCk6KsyfmUgT4ZGLEE04wASHRpCi3HAeXLk6iVCjuAKimTZTVJf1URHuIgRp299w+pp+ASt633PaQ==\" \n",
    ")\n",
    "\n",
    "# Step 2: Define file path (change filename if needed)\n",
    "file_path = \"wasbs://nyc-taxi-data@assgn.blob.core.windows.net/nyc-taxi-data.csv\"\n",
    "\n",
    "# Step 3: Read the CSV into a DataFrame\n",
    "df = spark.read.csv(file_path, header=True, inferSchema=True)\n",
    "\n",
    "# Step 4: Show sample data\n",
    "df.show(5)"
   ]
  },
  {
   "cell_type": "markdown",
   "metadata": {
    "application/vnd.databricks.v1+cell": {
     "cellMetadata": {},
     "inputWidgets": {},
     "nuid": "f49aedc8-9e42-4bef-bbe9-f16d4f141501",
     "showTitle": false,
     "tableResultSettingsMap": {},
     "title": ""
    }
   },
   "source": [
    "**Query 1 :**  Add a column named as \"\"Revenue\"\" into dataframe which is the sum of the below columns 'Fare_amount','Extra','MTA_tax','Improvement_surcharge','Tip_amount','Tolls_amount','Total_amount"
   ]
  },
  {
   "cell_type": "code",
   "execution_count": 0,
   "metadata": {
    "application/vnd.databricks.v1+cell": {
     "cellMetadata": {
      "byteLimit": 2048000,
      "rowLimit": 10000
     },
     "inputWidgets": {},
     "nuid": "eee47284-6928-47b9-828e-6743dd67bfc6",
     "showTitle": false,
     "tableResultSettingsMap": {},
     "title": ""
    }
   },
   "outputs": [
    {
     "name": "stdout",
     "output_type": "stream",
     "text": [
      "+------------------+-----------+-----+-------+----------+------------+------------+\n",
      "|           Revenue|fare_amount|extra|mta_tax|tip_amount|tolls_amount|total_amount|\n",
      "+------------------+-----------+-----+-------+----------+------------+------------+\n",
      "|             46.94|       17.5| 0.74|   0.14|      2.84|        1.81|       23.47|\n",
      "|120.25999999999999|      43.32| 0.86|   0.41|     11.75|        3.62|       60.13|\n",
      "|              37.6|       5.01| 1.69|   0.14|     10.73|         1.0|        18.8|\n",
      "|             33.76|        5.8| 0.54|   0.41|       8.9|        1.02|       16.88|\n",
      "|             92.38|      32.11| 0.31|   0.27|     13.44|        0.05|       46.19|\n",
      "+------------------+-----------+-----+-------+----------+------------+------------+\n",
      "only showing top 5 rows\n",
      "\n"
     ]
    }
   ],
   "source": [
    "from pyspark.sql.functions import col, sum as _sum\n",
    "\n",
    "df = df.withColumn(\"Revenue\",\n",
    "    col(\"fare_amount\") +\n",
    "    col(\"extra\") +\n",
    "    col(\"mta_tax\") +\n",
    "    col(\"improvement_surcharge\") +\n",
    "    col(\"tip_amount\") +\n",
    "    col(\"tolls_amount\") +\n",
    "    col(\"total_amount\")\n",
    ")\n",
    "\n",
    "df.select(\"Revenue\", \"fare_amount\", \"extra\", \"mta_tax\", \"tip_amount\",\"tolls_amount\", \"total_amount\", ).show(5)\n"
   ]
  },
  {
   "cell_type": "markdown",
   "metadata": {
    "application/vnd.databricks.v1+cell": {
     "cellMetadata": {},
     "inputWidgets": {},
     "nuid": "3d8df6c2-6db5-46bb-b9a0-19e94a483dd3",
     "showTitle": false,
     "tableResultSettingsMap": {},
     "title": ""
    }
   },
   "source": [
    "**Query 2** - Increasing count of total passengers in New York City by area"
   ]
  },
  {
   "cell_type": "code",
   "execution_count": 0,
   "metadata": {
    "application/vnd.databricks.v1+cell": {
     "cellMetadata": {
      "byteLimit": 2048000,
      "rowLimit": 10000
     },
     "inputWidgets": {},
     "nuid": "0807df6a-fa3c-4119-a13d-5cd20a917d36",
     "showTitle": false,
     "tableResultSettingsMap": {},
     "title": ""
    }
   },
   "outputs": [
    {
     "name": "stdout",
     "output_type": "stream",
     "text": [
      "+------------+---------------+\n",
      "|PULocationID|TotalPassengers|\n",
      "+------------+---------------+\n",
      "|         227|            600|\n",
      "|          59|            560|\n",
      "|          17|            520|\n",
      "|          98|            520|\n",
      "|          40|            440|\n",
      "|          29|            400|\n",
      "|         215|            400|\n",
      "|         108|            320|\n",
      "|         164|            320|\n",
      "|           3|            320|\n",
      "+------------+---------------+\n",
      "only showing top 10 rows\n",
      "\n"
     ]
    }
   ],
   "source": [
    "df.groupBy(\"PULocationID\").agg(_sum(\"passenger_count\").alias(\"TotalPassengers\")).orderBy(\"TotalPassengers\", ascending=False).show(10)"
   ]
  },
  {
   "cell_type": "markdown",
   "metadata": {
    "application/vnd.databricks.v1+cell": {
     "cellMetadata": {},
     "inputWidgets": {},
     "nuid": "52789906-3b62-4a30-99fc-5945489e1c97",
     "showTitle": false,
     "tableResultSettingsMap": {},
     "title": ""
    }
   },
   "source": [
    "**Query 3** - Realtime Average fare/total earning amount earned by 2 vendors"
   ]
  },
  {
   "cell_type": "code",
   "execution_count": 0,
   "metadata": {
    "application/vnd.databricks.v1+cell": {
     "cellMetadata": {
      "byteLimit": 2048000,
      "rowLimit": 10000
     },
     "inputWidgets": {},
     "nuid": "b1c8fcd9-d93e-4491-be68-37157b698fda",
     "showTitle": false,
     "tableResultSettingsMap": {},
     "title": ""
    }
   },
   "outputs": [
    {
     "name": "stdout",
     "output_type": "stream",
     "text": [
      "+--------+------------------+\n",
      "|VendorID|   AverageEarnings|\n",
      "+--------+------------------+\n",
      "|       1| 39.20774834437135|\n",
      "|       2|38.514362416107296|\n",
      "+--------+------------------+\n",
      "\n"
     ]
    }
   ],
   "source": [
    "df.groupBy(\"VendorID\").agg({\"total_amount\": \"avg\"}).withColumnRenamed(\"avg(total_amount)\", \"AverageEarnings\").show()\n"
   ]
  },
  {
   "cell_type": "markdown",
   "metadata": {
    "application/vnd.databricks.v1+cell": {
     "cellMetadata": {},
     "inputWidgets": {},
     "nuid": "0ca5ff8e-6761-4a2d-9354-72bd71ab3b14",
     "showTitle": false,
     "tableResultSettingsMap": {},
     "title": ""
    }
   },
   "source": [
    "**Query 4** - Moving Count of payments made by each payment mode"
   ]
  },
  {
   "cell_type": "code",
   "execution_count": 0,
   "metadata": {
    "application/vnd.databricks.v1+cell": {
     "cellMetadata": {
      "byteLimit": 2048000,
      "rowLimit": 10000
     },
     "inputWidgets": {},
     "nuid": "9057c327-8a3b-4c17-9995-fab9917f5268",
     "showTitle": false,
     "tableResultSettingsMap": {},
     "title": ""
    }
   },
   "outputs": [
    {
     "name": "stdout",
     "output_type": "stream",
     "text": [
      "+------------+-----+\n",
      "|payment_type|count|\n",
      "+------------+-----+\n",
      "|           4| 2720|\n",
      "|           2| 2640|\n",
      "|           5| 2400|\n",
      "|           1| 2240|\n",
      "|           3| 2000|\n",
      "+------------+-----+\n",
      "\n"
     ]
    }
   ],
   "source": [
    "df.groupBy(\"payment_type\").count().orderBy(\"count\", ascending=False).show()\n"
   ]
  },
  {
   "cell_type": "markdown",
   "metadata": {
    "application/vnd.databricks.v1+cell": {
     "cellMetadata": {},
     "inputWidgets": {},
     "nuid": "d8e82f94-2918-4ccd-b992-dba13ce5c1f0",
     "showTitle": false,
     "tableResultSettingsMap": {},
     "title": ""
    }
   },
   "source": [
    "**Query 5** - Highest two gaining vendor's on a particular date with no of passenger and total distance by cab"
   ]
  },
  {
   "cell_type": "code",
   "execution_count": 0,
   "metadata": {
    "application/vnd.databricks.v1+cell": {
     "cellMetadata": {
      "byteLimit": 2048000,
      "rowLimit": 10000
     },
     "inputWidgets": {},
     "nuid": "a4be3dbb-6eab-47aa-b633-69d17c5e0cf0",
     "showTitle": false,
     "tableResultSettingsMap": {},
     "title": ""
    }
   },
   "outputs": [
    {
     "name": "stdout",
     "output_type": "stream",
     "text": [
      "+----------+--------+------------------+---------------+------------------+\n",
      "| trip_date|VendorID|     TotalEarnings|TotalPassengers|     TotalDistance|\n",
      "+----------+--------+------------------+---------------+------------------+\n",
      "|2020-01-11|       1| 28127.19999999997|           1760|3619.6000000000067|\n",
      "|2020-01-08|       1|27503.599999999973|           1560|3916.0000000000114|\n",
      "+----------+--------+------------------+---------------+------------------+\n",
      "only showing top 2 rows\n",
      "\n"
     ]
    }
   ],
   "source": [
    "from pyspark.sql.functions import to_date\n",
    "\n",
    "df_with_date = df.withColumn(\"trip_date\", to_date(\"tpep_pickup_datetime\"))\n",
    "df_with_date.groupBy(\"trip_date\", \"VendorID\").agg(\n",
    "    _sum(\"total_amount\").alias(\"TotalEarnings\"),\n",
    "    _sum(\"passenger_count\").alias(\"TotalPassengers\"),\n",
    "    _sum(\"trip_distance\").alias(\"TotalDistance\")\n",
    ").orderBy(\"TotalEarnings\", ascending=False).show(2)\n"
   ]
  },
  {
   "cell_type": "markdown",
   "metadata": {
    "application/vnd.databricks.v1+cell": {
     "cellMetadata": {},
     "inputWidgets": {},
     "nuid": "24c3de14-ea22-4e57-8f51-3652d5051896",
     "showTitle": false,
     "tableResultSettingsMap": {},
     "title": ""
    }
   },
   "source": [
    "**Query 6** - Most no of passenger between a route of two location."
   ]
  },
  {
   "cell_type": "code",
   "execution_count": 0,
   "metadata": {
    "application/vnd.databricks.v1+cell": {
     "cellMetadata": {
      "byteLimit": 2048000,
      "rowLimit": 10000
     },
     "inputWidgets": {},
     "nuid": "216bdd05-e283-4954-9f8d-c44822730ef9",
     "showTitle": false,
     "tableResultSettingsMap": {},
     "title": ""
    }
   },
   "outputs": [
    {
     "name": "stdout",
     "output_type": "stream",
     "text": [
      "+------------+------------+---------------+\n",
      "|PULocationID|DOLocationID|TotalPassengers|\n",
      "+------------+------------+---------------+\n",
      "|          57|          11|            160|\n",
      "+------------+------------+---------------+\n",
      "only showing top 1 row\n",
      "\n"
     ]
    }
   ],
   "source": [
    "df.groupBy(\"PULocationID\", \"DOLocationID\") \\\n",
    "  .agg(_sum(\"passenger_count\").alias(\"TotalPassengers\")) \\\n",
    "  .orderBy(\"TotalPassengers\", ascending=False).show(1)\n"
   ]
  },
  {
   "cell_type": "markdown",
   "metadata": {
    "application/vnd.databricks.v1+cell": {
     "cellMetadata": {},
     "inputWidgets": {},
     "nuid": "3c420ab2-b996-460a-90f1-c4393cef3541",
     "showTitle": false,
     "tableResultSettingsMap": {},
     "title": ""
    }
   },
   "source": [
    "**Query 7** - Get top pickup locations with most passengers in last 5/10 seconds.\""
   ]
  },
  {
   "cell_type": "code",
   "execution_count": 0,
   "metadata": {
    "application/vnd.databricks.v1+cell": {
     "cellMetadata": {
      "byteLimit": 2048000,
      "rowLimit": 10000
     },
     "inputWidgets": {},
     "nuid": "c54dc831-5e2d-45b1-95fe-306b1269f93e",
     "showTitle": false,
     "tableResultSettingsMap": {},
     "title": ""
    }
   },
   "outputs": [
    {
     "name": "stdout",
     "output_type": "stream",
     "text": [
      "+------------+---------------+\n",
      "|PULocationID|TotalPassengers|\n",
      "+------------+---------------+\n",
      "|         134|             80|\n",
      "+------------+---------------+\n",
      "\n"
     ]
    }
   ],
   "source": [
    "from pyspark.sql.functions import max as _max\n",
    "\n",
    "latest_time = df.agg(_max(\"tpep_pickup_datetime\")).collect()[0][0]\n",
    "\n",
    "df.filter(df[\"tpep_pickup_datetime\"] >= latest_time) \\\n",
    "  .groupBy(\"PULocationID\") \\\n",
    "  .agg(_sum(\"passenger_count\").alias(\"TotalPassengers\")) \\\n",
    "  .orderBy(\"TotalPassengers\", ascending=False).show()"
   ]
  },
  {
   "cell_type": "markdown",
   "metadata": {
    "application/vnd.databricks.v1+cell": {
     "cellMetadata": {},
     "inputWidgets": {},
     "nuid": "ba381a90-0093-4413-b88c-e0d6dd6bf477",
     "showTitle": false,
     "tableResultSettingsMap": {},
     "title": ""
    }
   },
   "source": [
    "**Save as External Parquet file**"
   ]
  },
  {
   "cell_type": "code",
   "execution_count": 0,
   "metadata": {
    "application/vnd.databricks.v1+cell": {
     "cellMetadata": {
      "byteLimit": 2048000,
      "rowLimit": 10000
     },
     "inputWidgets": {},
     "nuid": "3d8d57f9-b399-41ab-a0fc-604b8dcf47db",
     "showTitle": false,
     "tableResultSettingsMap": {},
     "title": ""
    }
   },
   "outputs": [],
   "source": [
    "output_path = \"wasbs://nyc-taxi-data@assgn.blob.core.windows.net/\"\n",
    " \n",
    "df.write.mode(\"overwrite\").parquet(output_path)"
   ]
  }
 ],
 "metadata": {
  "application/vnd.databricks.v1+notebook": {
   "computePreferences": null,
   "dashboards": [],
   "environmentMetadata": {
    "base_environment": "",
    "environment_version": "1"
   },
   "inputWidgetPreferences": null,
   "language": "python",
   "notebookMetadata": {
    "pythonIndentUnit": 4
   },
   "notebookName": "Nyc-data-analysis",
   "widgets": {}
  },
  "language_info": {
   "name": "python"
  }
 },
 "nbformat": 4,
 "nbformat_minor": 0
}
